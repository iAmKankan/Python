{
 "cells": [
  {
   "cell_type": "markdown",
   "metadata": {},
   "source": [
    "## Python Datatypes\n",
    "![dark](https://user-images.githubusercontent.com/12748752/137111056-3a1e5ff9-56d1-4b02-a4b7-ada69dac75b3.png)\n",
    "<img src=\"https://media.geeksforgeeks.org/wp-content/uploads/20191023173512/Python-data-structure.jpg\" width=40%>\n",
    "\n",
    "* [Numeric](#Numeric)\n",
    "    * [Integers](#Integers)\n",
    "    * [Float](#Float)\n",
    "    * [Complex Numbers](#Complex-numbers)\n",
    "  \n",
    "* [Sequence Type](#sequence-type)\n",
    "    * [String](#strings)\n",
    "    * [List](#list)\n",
    "    * [Tuple](#tuple)\n",
    "* [Boolean](#boolean)\n",
    "* [Set](#set)\n",
    "* [Dictionary](#dictionary)\n",
    "\n",
    "* **Note** – _type()_ function is used to determine the type of data type."
   ]
  },
  {
   "cell_type": "markdown",
   "metadata": {},
   "source": [
    "## Numeric\n",
    "![dark](https://user-images.githubusercontent.com/12748752/137111056-3a1e5ff9-56d1-4b02-a4b7-ada69dac75b3.png)\n",
    "\n",
    "* The interpreter acts as a simple calculator: you can type an expression at it and it will write the value. \n",
    "* Expression syntax is straightforward: the operators +, -, * and / work just like in most other languages (for example, Pascal or C);\n",
    "* Parentheses (()) can be used for grouping.\n",
    "\n",
    "### Integers\n",
    "![light](https://user-images.githubusercontent.com/12748752/137111059-882c8ea6-bdbf-4966-89b9-7ef5a02ebc6e.png)\n",
    "* This value is represented by int class. It contains positive or negative whole numbers (without fraction or decimal). In Python there is no limit to how long an integer value can be.\n",
    "\n",
    "### Float\n",
    "![light](https://user-images.githubusercontent.com/12748752/137111059-882c8ea6-bdbf-4966-89b9-7ef5a02ebc6e.png)\n",
    "* This value is represented by float class. It is a real number with floating point representation.\n",
    "* It is specified by a decimal point. Optionally, the character e or E followed by a positive or negative integer may be appended to specify scientific notation.\n",
    "\n",
    "### Complex Numbers \n",
    "![light](https://user-images.githubusercontent.com/12748752/137111059-882c8ea6-bdbf-4966-89b9-7ef5a02ebc6e.png)\n",
    "\n",
    "* Complex number is represented by complex class.\n",
    "* It is specified as (real part) + (imaginary part)j. For example – 2+3j\n",
    "\n"
   ]
  },
  {
   "cell_type": "code",
   "execution_count": 1,
   "metadata": {},
   "outputs": [
    {
     "name": "stdout",
     "output_type": "stream",
     "text": [
      "Type of a:  <class 'int'>\n",
      "\n",
      "Type of b:  <class 'float'>\n",
      "\n",
      "Type of c:  <class 'complex'>\n"
     ]
    }
   ],
   "source": [
    "# Python program to \n",
    "# demonstrate numeric value\n",
    "  \n",
    "a = 5\n",
    "print(\"Type of a: \", type(a))\n",
    "  \n",
    "b = 5.0\n",
    "print(\"\\nType of b: \", type(b))\n",
    "  \n",
    "c = 2 + 4j\n",
    "print(\"\\nType of c: \", type(c))"
   ]
  },
  {
   "cell_type": "markdown",
   "metadata": {},
   "source": [
    "## Sequence Type\n",
    "![dark](https://user-images.githubusercontent.com/12748752/137111056-3a1e5ff9-56d1-4b02-a4b7-ada69dac75b3.png)\n",
    "* In Python, sequence is the ordered collection of similar or different data types. \n",
    "* Sequences allows to store multiple values in an organized and efficient fashion. There are several sequence types in\n",
    "\n",
    "### String\n",
    "![light](https://user-images.githubusercontent.com/12748752/137111059-882c8ea6-bdbf-4966-89b9-7ef5a02ebc6e.png)\n",
    "* In Python, Strings are arrays of bytes representing Unicode characters.\n",
    "* A string is a collection of one or more characters put in a single quote, double-quote or triple quote. \n",
    "* In python there is no character data type, a character is a string of length one.\n",
    "* It is represented by str class.\n",
    " "
   ]
  },
  {
   "cell_type": "code",
   "execution_count": 2,
   "metadata": {},
   "outputs": [
    {
     "name": "stdout",
     "output_type": "stream",
     "text": [
      "String with the use of Single Quotes: \n",
      "Welcome to the Geeks World\n",
      "\n",
      "String with the use of Double Quotes: \n",
      "I'm a Geek\n",
      "<class 'str'>\n",
      "\n",
      "String with the use of Triple Quotes: \n",
      "I'm a Geek and I live in a world of \"Geeks\"\n",
      "<class 'str'>\n",
      "\n",
      "Creating a multiline String: \n",
      "Geeks \n",
      "            For \n",
      "            Life\n"
     ]
    }
   ],
   "source": [
    "# Python Program for \n",
    "# Creation of String \n",
    "    \n",
    "# Creating a String  \n",
    "# with single Quotes \n",
    "String1 = 'Welcome to the Geeks World'\n",
    "print(\"String with the use of Single Quotes: \") \n",
    "print(String1) \n",
    "    \n",
    "# Creating a String \n",
    "# with double Quotes \n",
    "String1 = \"I'm a Geek\"\n",
    "print(\"\\nString with the use of Double Quotes: \") \n",
    "print(String1) \n",
    "print(type(String1))\n",
    "    \n",
    "# Creating a String \n",
    "# with triple Quotes \n",
    "String1 = '''I'm a Geek and I live in a world of \"Geeks\"'''\n",
    "print(\"\\nString with the use of Triple Quotes: \") \n",
    "print(String1) \n",
    "print(type(String1))\n",
    "  \n",
    "# Creating String with triple \n",
    "# Quotes allows multiple lines \n",
    "String1 = '''Geeks \n",
    "            For \n",
    "            Life'''\n",
    "print(\"\\nCreating a multiline String: \") \n",
    "print(String1) "
   ]
  },
  {
   "cell_type": "markdown",
   "metadata": {},
   "source": [
    "#### String Traversal\n",
    "![light](https://user-images.githubusercontent.com/12748752/137111059-882c8ea6-bdbf-4966-89b9-7ef5a02ebc6e.png)\n",
    "* Individual characters of a String can be accessed by using the method of Indexing.\n",
    "* Indexing allows negative address references to access characters from the back of the String, e.g. -1 refers to the last character, -2 refers to the second last character and so on.\n",
    "* **Creating String** Strings in Python can be created using single quotes or double quotes or even triple quotes."
   ]
  },
  {
   "cell_type": "code",
   "execution_count": 3,
   "metadata": {},
   "outputs": [
    {
     "name": "stdout",
     "output_type": "stream",
     "text": [
      "Initial String: \n",
      "GeeksForGeeks\n",
      "\n",
      "First character of String is: \n",
      "G\n",
      "\n",
      "Last character of String is: \n",
      "s\n"
     ]
    }
   ],
   "source": [
    "# Python Program to Access \n",
    "# characters of String \n",
    "    \n",
    "String1 = \"GeeksForGeeks\"\n",
    "print(\"Initial String: \") \n",
    "print(String1) \n",
    "    \n",
    "# Printing First character \n",
    "print(\"\\nFirst character of String is: \") \n",
    "print(String1[0]) \n",
    "    \n",
    "# Printing Last character \n",
    "print(\"\\nLast character of String is: \") \n",
    "print(String1[-1]) "
   ]
  },
  {
   "cell_type": "markdown",
   "metadata": {},
   "source": [
    "### List\n",
    "![light](https://user-images.githubusercontent.com/12748752/137111059-882c8ea6-bdbf-4966-89b9-7ef5a02ebc6e.png)\n",
    "* Lists are just like the arrays, declared in other languages which is a ordered collection of data.\n",
    "* It is very flexible as the items in a list do not need to be of the same type.\n",
    "* **Creating List** Lists in Python can be created by just placing the sequence inside the square brackets[].\n"
   ]
  },
  {
   "cell_type": "code",
   "execution_count": 5,
   "metadata": {},
   "outputs": [
    {
     "name": "stdout",
     "output_type": "stream",
     "text": [
      "Initial blank List: \n",
      "[]\n",
      "\n",
      "List with the use of String: \n",
      "['GeeksForGeeks']\n",
      "\n",
      "List containing multiple values: \n",
      "Geeks\n",
      "Geeks\n",
      "\n",
      "Multi-Dimensional List: \n",
      "[['Geeks', 'For'], ['Geeks']]\n"
     ]
    }
   ],
   "source": [
    "\n",
    "# Python program to demonstrate  \n",
    "# Creation of List  \n",
    "    \n",
    "# Creating a List \n",
    "List = [] \n",
    "print(\"Initial blank List: \") \n",
    "print(List) \n",
    "    \n",
    "# Creating a List with  \n",
    "# the use of a String \n",
    "List = ['GeeksForGeeks'] \n",
    "print(\"\\nList with the use of String: \") \n",
    "print(List) \n",
    "    \n",
    "# Creating a List with \n",
    "# the use of multiple values \n",
    "List = [\"Geeks\", \"For\", \"Geeks\"] \n",
    "print(\"\\nList containing multiple values: \") \n",
    "print(List[0])  \n",
    "print(List[2]) \n",
    "    \n",
    "# Creating a Multi-Dimensional List \n",
    "# (By Nesting a list inside a List) \n",
    "List = [['Geeks', 'For'], ['Geeks']] \n",
    "print(\"\\nMulti-Dimensional List: \") \n",
    "print(List) "
   ]
  },
  {
   "cell_type": "markdown",
   "metadata": {},
   "source": [
    "#### List Traversal\n",
    "![light](https://user-images.githubusercontent.com/12748752/137111059-882c8ea6-bdbf-4966-89b9-7ef5a02ebc6e.png)\n",
    "\n",
    "* In order to access the list items refer to the index number. \n",
    "* Use the index operator [ ] to access an item in a list. \n",
    "* In Python, negative sequence indexes represent positions from the end of the array. \n",
    "* Instead of having to compute the offset as in List[len(List)-3], it is enough to just write List[-3].\n",
    "* Negative indexing means beginning from the end, -1 refers to the last item, -2 refers to the second-last item, etc."
   ]
  },
  {
   "cell_type": "code",
   "execution_count": 6,
   "metadata": {},
   "outputs": [
    {
     "name": "stdout",
     "output_type": "stream",
     "text": [
      "Accessing element from the list\n",
      "Geeks\n",
      "Geeks\n",
      "Accessing element using negative indexing\n",
      "Geeks\n",
      "Geeks\n"
     ]
    }
   ],
   "source": [
    "\n",
    "# Python program to demonstrate  \n",
    "# accessing of element from list \n",
    "    \n",
    "# Creating a List with \n",
    "# the use of multiple values \n",
    "List = [\"Geeks\", \"For\", \"Geeks\"] \n",
    "    \n",
    "# accessing a element from the  \n",
    "# list using index number \n",
    "print(\"Accessing element from the list\") \n",
    "print(List[0])  \n",
    "print(List[2]) \n",
    "  \n",
    "# accessing a element using \n",
    "# negative indexing \n",
    "print(\"Accessing element using negative indexing\") \n",
    "    \n",
    "# print the last element of list \n",
    "print(List[-1]) \n",
    "    \n",
    "# print the third last element of list  \n",
    "print(List[-3]) "
   ]
  },
  {
   "cell_type": "markdown",
   "metadata": {},
   "source": [
    "### Tuple\n",
    "![light](https://user-images.githubusercontent.com/12748752/137111059-882c8ea6-bdbf-4966-89b9-7ef5a02ebc6e.png)\n",
    "\n",
    "* Just like list, tuple is also an ordered collection of Python objects.\n",
    "* The only difference between tuple and list is that tuples are immutable i.e. tuples cannot be modified after it is created. \n",
    "* It is represented by tuple class.\n",
    " \n",
    "\n",
    "#### Creating Tuple\n",
    "![light](https://user-images.githubusercontent.com/12748752/137111059-882c8ea6-bdbf-4966-89b9-7ef5a02ebc6e.png)\n",
    "\n",
    "* In Python, tuples are created by placing a sequence of values separated by ‘comma’ with or without the use of parentheses for grouping of the data sequence.\n",
    "* Tuples can contain any number of elements and of any datatype (like strings, integers, list, etc.).\n",
    "\n",
    "* **Note1:** Tuples can also be created with a single element, but it is a bit tricky. Having one element in the parentheses is not sufficient, there must be a trailing ‘comma’ to make it a tuple.\n",
    "* **Note2:**  Creation of Python tuple without the use of parentheses is known as Tuple Packing.\n",
    "\n"
   ]
  },
  {
   "cell_type": "code",
   "execution_count": 9,
   "metadata": {},
   "outputs": [
    {
     "name": "stdout",
     "output_type": "stream",
     "text": [
      "Initial empty Tuple: \n",
      "<class 'tuple'>\n",
      "\n",
      "Tuple with the use of String: \n",
      "('Geeks', 'For')\n",
      "\n",
      "Tuple using List: \n",
      "(1, 2, 4, 5, 6)\n",
      "\n",
      "Tuple with the use of function: \n",
      "('G', 'e', 'e', 'k', 's')\n",
      "\n",
      "Tuple with nested tuples: \n",
      "((0, 1, 2, 3), ('python', 'geek'))\n"
     ]
    }
   ],
   "source": [
    "\n",
    "# Python program to demonstrate  \n",
    "# creation of Set \n",
    "    \n",
    "# Creating an empty tuple \n",
    "Tuple1 = () \n",
    "print(\"Initial empty Tuple: \") \n",
    "print (type(Tuple1)) \n",
    "    \n",
    "# Creating a Tuple with  \n",
    "# the use of Strings \n",
    "Tuple1 = ('Geeks', 'For') \n",
    "print(\"\\nTuple with the use of String: \") \n",
    "print(Tuple1) \n",
    "    \n",
    "# Creating a Tuple with \n",
    "# the use of list \n",
    "list1 = [1, 2, 4, 5, 6] \n",
    "print(\"\\nTuple using List: \") \n",
    "print(tuple(list1)) \n",
    "  \n",
    "# Creating a Tuple with the \n",
    "# use of built-in function \n",
    "Tuple1 = tuple('Geeks') \n",
    "print(\"\\nTuple with the use of function: \") \n",
    "print(Tuple1) \n",
    "  \n",
    "# Creating a Tuple  \n",
    "# with nested tuples \n",
    "Tuple1 = (0, 1, 2, 3) \n",
    "Tuple2 = ('python', 'geek') \n",
    "Tuple3 = (Tuple1, Tuple2) \n",
    "print(\"\\nTuple with nested tuples: \") \n",
    "print(Tuple3) "
   ]
  },
  {
   "cell_type": "markdown",
   "metadata": {},
   "source": [
    "#### Tuple Traversal\n",
    "![light](https://user-images.githubusercontent.com/12748752/137111059-882c8ea6-bdbf-4966-89b9-7ef5a02ebc6e.png)\n",
    "\n",
    "* In order to access the tuple items refer to the index number.\n",
    "* Use the index operator [ ] to access an item in a tuple. \n",
    "* The index must be an integer. Nested tuples are accessed using nested indexing."
   ]
  },
  {
   "cell_type": "code",
   "execution_count": 17,
   "metadata": {},
   "outputs": [
    {
     "name": "stdout",
     "output_type": "stream",
     "text": [
      "First element of tuple\n",
      "1\n",
      "\n",
      "Last element of tuple\n",
      "5\n",
      "\n",
      "Third last element of tuple\n",
      "3\n"
     ]
    }
   ],
   "source": [
    "\n",
    "# Python program to \n",
    "# demonstrate accessing tuple\n",
    "  \n",
    "tuple1 = tuple([1, 2, 3, 4, 5])\n",
    "\n",
    "# Accessing element using indexing\n",
    "print(\"First element of tuple\")\n",
    "print(tuple1[0])\n",
    "  \n",
    "# Accessing element from last\n",
    "# negative indexing\n",
    "print(\"\\nLast element of tuple\")\n",
    "print(tuple1[-1])\n",
    "  \n",
    "print(\"\\nThird last element of tuple\")\n",
    "print(tuple1[-3])"
   ]
  },
  {
   "cell_type": "markdown",
   "metadata": {},
   "source": [
    "### Boolean\n",
    "![light](https://user-images.githubusercontent.com/12748752/137111059-882c8ea6-bdbf-4966-89b9-7ef5a02ebc6e.png)\n",
    "* Data type with one of the two built-in values, True or False. \n",
    "* Boolean objects that are equal to True are truthy (true), and those equal to False are falsy (false).\n",
    "* But non-Boolean objects can be evaluated in Boolean context as well and determined to be true or false. \n",
    "* It is denoted by the class bool.\n",
    "\n",
    "* **Note** True and False with capital ‘T’ and ‘F’ are valid booleans otherwise python will throw an error."
   ]
  },
  {
   "cell_type": "code",
   "execution_count": 11,
   "metadata": {},
   "outputs": [
    {
     "name": "stdout",
     "output_type": "stream",
     "text": [
      "<class 'bool'>\n",
      "<class 'bool'>\n"
     ]
    },
    {
     "ename": "NameError",
     "evalue": "name 'true' is not defined",
     "output_type": "error",
     "traceback": [
      "\u001b[1;31m---------------------------------------------------------------------------\u001b[0m",
      "\u001b[1;31mNameError\u001b[0m                                 Traceback (most recent call last)",
      "\u001b[1;32m<ipython-input-11-6edcf8902191>\u001b[0m in \u001b[0;36m<module>\u001b[1;34m\u001b[0m\n\u001b[0;32m      5\u001b[0m \u001b[0mprint\u001b[0m\u001b[1;33m(\u001b[0m\u001b[0mtype\u001b[0m\u001b[1;33m(\u001b[0m\u001b[1;32mFalse\u001b[0m\u001b[1;33m)\u001b[0m\u001b[1;33m)\u001b[0m\u001b[1;33m\u001b[0m\u001b[1;33m\u001b[0m\u001b[0m\n\u001b[0;32m      6\u001b[0m \u001b[1;33m\u001b[0m\u001b[0m\n\u001b[1;32m----> 7\u001b[1;33m \u001b[0mprint\u001b[0m\u001b[1;33m(\u001b[0m\u001b[0mtype\u001b[0m\u001b[1;33m(\u001b[0m\u001b[0mtrue\u001b[0m\u001b[1;33m)\u001b[0m\u001b[1;33m)\u001b[0m\u001b[1;33m\u001b[0m\u001b[1;33m\u001b[0m\u001b[0m\n\u001b[0m",
      "\u001b[1;31mNameError\u001b[0m: name 'true' is not defined"
     ]
    }
   ],
   "source": [
    "\n",
    "# Python program to \n",
    "# demonstrate boolean type\n",
    "  \n",
    "print(type(True))\n",
    "print(type(False))\n",
    "  \n",
    "print(type(true))"
   ]
  },
  {
   "cell_type": "markdown",
   "metadata": {},
   "source": [
    "### Set\n",
    "![light](https://user-images.githubusercontent.com/12748752/137111059-882c8ea6-bdbf-4966-89b9-7ef5a02ebc6e.png)\n",
    "\n",
    "* In Python, Set is an unordered collection of data type that is **iterable**, **mutable** and has **no duplicate elements**. The order of elements in a set is undefined though it may consist of various elements.\n",
    "* Sets can be created by using a pair of {} or the built-in set() function with an iterable object or a sequence by placing the sequence inside curly braces, separated by ‘comma’.\n",
    "* Type of elements in a set need not be the same, various mixed-up data type values can also be passed to the set."
   ]
  },
  {
   "cell_type": "code",
   "execution_count": 15,
   "metadata": {},
   "outputs": [
    {
     "name": "stdout",
     "output_type": "stream",
     "text": [
      "Initial blank Set: \n",
      "set()\n",
      "{'uyu', 'kk'}\n",
      "<class 'set'>\n",
      "\n",
      "Set with the use of String: \n",
      "{'o', 'G', 'k', 'r', 'e', 's', 'F'}\n",
      "\n",
      "Set with the use of List: \n",
      "{'For', 'Geeks'}\n",
      "\n",
      "Set with the use of Mixed Values\n",
      "{1, 2, 4, 6, 'For', 'Geeks'}\n"
     ]
    }
   ],
   "source": [
    "\n",
    "# Python program to demonstrate  \n",
    "# Creation of Set in Python \n",
    "    \n",
    "# Creating a Set \n",
    "set1 = set() \n",
    "set2={\"kk\",\"uyu\"}\n",
    "\n",
    "print(\"Initial blank Set: \") \n",
    "print(set1) \n",
    "print(set2) \n",
    "print(type(set2)) \n",
    "\n",
    "# Creating a Set with  \n",
    "# the use of a String \n",
    "set1 = set(\"GeeksForGeeks\") \n",
    "print(\"\\nSet with the use of String: \") \n",
    "print(set1) \n",
    "  \n",
    "# Creating a Set with \n",
    "# the use of a List \n",
    "set1 = set([\"Geeks\", \"For\", \"Geeks\"]) \n",
    "print(\"\\nSet with the use of List: \") \n",
    "print(set1) \n",
    "  \n",
    "# Creating a Set with  \n",
    "# a mixed type of values \n",
    "# (Having numbers and strings) \n",
    "set1 = set([1, 2, 'Geeks', 4, 'For', 6, 'Geeks']) \n",
    "print(\"\\nSet with the use of Mixed Values\") \n",
    "print(set1) "
   ]
  },
  {
   "cell_type": "markdown",
   "metadata": {},
   "source": [
    "#### Sets Traversal\n",
    "![light](https://user-images.githubusercontent.com/12748752/137111059-882c8ea6-bdbf-4966-89b9-7ef5a02ebc6e.png)\n",
    "* Set items cannot be accessed by referring to an index, since sets are unordered the items has no index.\n",
    "* But you can loop through the set items using a for loop, or ask if a specified value is present in a set, by using the in keyword.\n"
   ]
  },
  {
   "cell_type": "code",
   "execution_count": 18,
   "metadata": {},
   "outputs": [
    {
     "name": "stdout",
     "output_type": "stream",
     "text": [
      "\n",
      "Initial set\n",
      "{'For', 'Geeks'}\n",
      "\n",
      "Elements of set: \n",
      "For Geeks True\n"
     ]
    }
   ],
   "source": [
    "\n",
    "# Python program to demonstrate \n",
    "# Accessing of elements in a set \n",
    "    \n",
    "# Creating a set \n",
    "set1 = set([\"Geeks\", \"For\", \"Geeks\"]) \n",
    "print(\"\\nInitial set\") \n",
    "print(set1) \n",
    "    \n",
    "# Accessing element using \n",
    "# for loop \n",
    "print(\"\\nElements of set: \") \n",
    "for i in set1: \n",
    "    print(i, end =\" \") \n",
    "    \n",
    "# Checking the element \n",
    "# using in keyword \n",
    "print(\"Geeks\" in set1) "
   ]
  },
  {
   "cell_type": "markdown",
   "metadata": {},
   "source": [
    "### Dictionary\n",
    "![light](https://user-images.githubusercontent.com/12748752/137111059-882c8ea6-bdbf-4966-89b9-7ef5a02ebc6e.png)\n",
    "\n",
    "* Dictionary in Python is an unordered collection of data values, used to store data values like a map, which unlike other Data Types that hold only single value as an element, Dictionary holds key:value pair.\n",
    "* Key-value is provided in the dictionary to make it more optimized. Each key-value pair in a Dictionary is separated by a colon :, whereas each key is separated by a ‘comma’.\n",
    "\n",
    "* **Creating Dictionary** In Python, a Dictionary can be created by placing a sequence of elements within curly {} braces, separated by ‘comma’.\n",
    "* Values in a dictionary can be of any datatype and can be duplicated, whereas keys can’t be repeated and must be immutable.\n",
    "* Dictionary can also be created by the built-in function dict().\n",
    "* An empty dictionary can be created by just placing it to curly braces{}.\n",
    "\n",
    "* **Note** Dictionary keys are case sensitive, same name but different cases of Key will be treated distinctly."
   ]
  },
  {
   "cell_type": "code",
   "execution_count": 20,
   "metadata": {},
   "outputs": [
    {
     "name": "stdout",
     "output_type": "stream",
     "text": [
      "Empty Dictionary: \n",
      "<class 'dict'>\n",
      "\n",
      "Dictionary with the use of Integer Keys: \n",
      "{1: 'Geeks', 2: 'For', 3: 'Geeks'}\n",
      "\n",
      "Dictionary with the use of Mixed Keys: \n",
      "{'Name': 'Geeks', 1: [1, 2, 3, 4]}\n",
      "\n",
      "Dictionary with the use of dict(): \n",
      "{1: 'Geeks', 2: 'For', 3: 'Geeks'}\n",
      "\n",
      "Dictionary with each item as a pair: \n",
      "{1: 'Geeks', 2: 'For'}\n"
     ]
    }
   ],
   "source": [
    "\n",
    "# Creating an empty Dictionary \n",
    "Dict = {} \n",
    "print(\"Empty Dictionary: \") \n",
    "print(type(Dict) )\n",
    "    \n",
    "# Creating a Dictionary  \n",
    "# with Integer Keys \n",
    "Dict = {1: 'Geeks', 2: 'For', 3: 'Geeks'} \n",
    "print(\"\\nDictionary with the use of Integer Keys: \") \n",
    "print(Dict) \n",
    "    \n",
    "# Creating a Dictionary  \n",
    "# with Mixed keys \n",
    "Dict = {'Name': 'Geeks', 1: [1, 2, 3, 4]} \n",
    "print(\"\\nDictionary with the use of Mixed Keys: \") \n",
    "print(Dict) \n",
    "    \n",
    "# Creating a Dictionary \n",
    "# with dict() method \n",
    "Dict = dict({1: 'Geeks', 2: 'For', 3:'Geeks'}) \n",
    "print(\"\\nDictionary with the use of dict(): \") \n",
    "print(Dict) \n",
    "    \n",
    "# Creating a Dictionary \n",
    "# with each item as a Pair \n",
    "Dict = dict([(1, 'Geeks'), (2, 'For')]) \n",
    "print(\"\\nDictionary with each item as a pair: \") \n",
    "print(Dict) "
   ]
  },
  {
   "cell_type": "markdown",
   "metadata": {},
   "source": [
    "#### Dictionary Traversal\n",
    "![light](https://user-images.githubusercontent.com/12748752/137111059-882c8ea6-bdbf-4966-89b9-7ef5a02ebc6e.png)\n",
    "* In order to access the items of a dictionary refer to its key name.\n",
    "* Key can be used inside square brackets. \n",
    "* There is also a method called get() that will also help in accessing the element from a dictionary."
   ]
  },
  {
   "cell_type": "code",
   "execution_count": 21,
   "metadata": {},
   "outputs": [
    {
     "name": "stdout",
     "output_type": "stream",
     "text": [
      "Accessing a element using key:\n",
      "For\n",
      "Accessing a element using get:\n",
      "Geeks\n"
     ]
    }
   ],
   "source": [
    "# Python program to demonstrate   \n",
    "# accessing a element from a Dictionary  \n",
    "    \n",
    "# Creating a Dictionary  \n",
    "Dict = {1: 'Geeks', 'name': 'For', 3: 'Geeks'} \n",
    "    \n",
    "# accessing a element using key \n",
    "print(\"Accessing a element using key:\") \n",
    "print(Dict['name']) \n",
    "  \n",
    "# accessing a element using get() \n",
    "# method \n",
    "print(\"Accessing a element using get:\") \n",
    "print(Dict.get(3)) "
   ]
  },
  {
   "cell_type": "markdown",
   "metadata": {},
   "source": [
    "### References \n",
    "* [Geeks For Geeks](https://www.geeksforgeeks.org/)"
   ]
  },
  {
   "cell_type": "code",
   "execution_count": null,
   "metadata": {},
   "outputs": [],
   "source": []
  }
 ],
 "metadata": {
  "kernelspec": {
   "display_name": "Python 3",
   "language": "python",
   "name": "python3"
  },
  "language_info": {
   "codemirror_mode": {
    "name": "ipython",
    "version": 3
   },
   "file_extension": ".py",
   "mimetype": "text/x-python",
   "name": "python",
   "nbconvert_exporter": "python",
   "pygments_lexer": "ipython3",
   "version": "3.6.8"
  }
 },
 "nbformat": 4,
 "nbformat_minor": 4
}
