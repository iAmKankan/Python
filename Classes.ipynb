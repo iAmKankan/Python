{
 "cells": [
  {
   "cell_type": "markdown",
   "metadata": {},
   "source": [
    "### Scopes and Namespaces\n",
    "![dark](https://user-images.githubusercontent.com/12748752/137111056-3a1e5ff9-56d1-4b02-a4b7-ada69dac75b3.png)\n",
    "* if no global or nonlocal statement is in effect – assignments to names always go into the innermost scope. \n",
    "* Assignments do not copy data — they just bind names to objects.\n",
    "* The same is true for deletions: the statement del x removes the binding of x from the namespace referenced by the local scope."
   ]
  },
  {
   "cell_type": "code",
   "execution_count": 88,
   "metadata": {},
   "outputs": [
    {
     "name": "stdout",
     "output_type": "stream",
     "text": [
      "After local assignment: test spam\n",
      "After nonlocal assignment: nonlocal spam\n",
      "After global assignment: nonlocal spam\n",
      "In global scope: global spam\n"
     ]
    }
   ],
   "source": [
    "def scope_test():\n",
    "    def do_local():\n",
    "        spam = \"local spam\"\n",
    "\n",
    "    def do_nonlocal():\n",
    "        nonlocal spam\n",
    "        spam = \"nonlocal spam\"\n",
    "\n",
    "    def do_global():\n",
    "        global spam\n",
    "        spam = \"global spam\"\n",
    "\n",
    "    spam = \"test spam\"\n",
    "    do_local()\n",
    "    print(\"After local assignment:\", spam)\n",
    "    do_nonlocal()\n",
    "    print(\"After nonlocal assignment:\", spam)\n",
    "    do_global()\n",
    "    print(\"After global assignment:\", spam)\n",
    "\n",
    "scope_test()\n",
    "print(\"In global scope:\", spam)"
   ]
  },
  {
   "cell_type": "markdown",
   "metadata": {},
   "source": [
    "## Classes\n",
    "![dark](https://user-images.githubusercontent.com/12748752/137111056-3a1e5ff9-56d1-4b02-a4b7-ada69dac75b3.png)\n",
    "\n",
    "### Class Definition Syntax\n",
    "![light](https://user-images.githubusercontent.com/12748752/137111059-882c8ea6-bdbf-4966-89b9-7ef5a02ebc6e.png)\n",
    " * Like function definitions (def statements) must be executed before they have any effect. \n",
    " * You could conceivably place a class definition in a branch of an if statement, or inside a function.\n",
    "```\n",
    "class ClassName:\n",
    "    <statement-1>\n",
    "    .\n",
    "    .\n",
    "    .\n",
    "    <statement-N>\n",
    "    \n",
    "myObject=ClassName()\n",
    "```\n",
    "\n",
    "\n",
    "### Class Objects\n",
    "![light](https://user-images.githubusercontent.com/12748752/137111059-882c8ea6-bdbf-4966-89b9-7ef5a02ebc6e.png)\n",
    "* Class objects support two kinds of operations: \n",
    "     * **Attribute references** \n",
    "     * **Instantiation**\n",
    " "
   ]
  },
  {
   "cell_type": "code",
   "execution_count": 89,
   "metadata": {},
   "outputs": [],
   "source": [
    "class MyClass:\n",
    "    \"\"\"A simple example class\"\"\"\n",
    "    i = 12345\n",
    "\n",
    "    def f():\n",
    "        return 'hello world from f'\n",
    "    def g(self):\n",
    "        return 'hello world from g'"
   ]
  },
  {
   "cell_type": "markdown",
   "metadata": {},
   "source": [
    "* **Attribute references** can be as follows"
   ]
  },
  {
   "cell_type": "code",
   "execution_count": 90,
   "metadata": {},
   "outputs": [
    {
     "name": "stdout",
     "output_type": "stream",
     "text": [
      "12345\n",
      "hello world from f\n",
      "<function MyClass.f at 0x0000020782DA6BF8>\n",
      "A simple example class\n",
      "hello world from g\n"
     ]
    }
   ],
   "source": [
    "print(MyClass.i)\n",
    "print(MyClass.f())\n",
    "print(MyClass.f)\n",
    "print(MyClass.__doc__)\n",
    "print(MyClass.g(MyClass))"
   ]
  },
  {
   "cell_type": "markdown",
   "metadata": {},
   "source": [
    "* **Instantiation**\n",
    "* If any class element is being called by the class instance, and the element is a function then the function is likely to have its first argument as a reference(_**self**_) or reference as the only argument. \n",
    "* Otherwise it will throw error.\n",
    "```\n",
    "myObject=MyClass()\n",
    "```"
   ]
  },
  {
   "cell_type": "code",
   "execution_count": 91,
   "metadata": {},
   "outputs": [
    {
     "name": "stdout",
     "output_type": "stream",
     "text": [
      "12345\n",
      "<bound method MyClass.f of <__main__.MyClass object at 0x0000020782D796A0>>\n",
      "A simple example class\n",
      "hello world from g\n"
     ]
    }
   ],
   "source": [
    "myObject=MyClass()\n",
    "\n",
    "print(myObject.i)\n",
    "# print(myObject.f())\n",
    "print(myObject.f)\n",
    "print(myObject.__doc__)\n",
    "print(myObject.g())"
   ]
  },
  {
   "cell_type": "markdown",
   "metadata": {},
   "source": [
    "* The instantiation operation (“calling” a class object) creates an empty object.\n",
    "* Many classes like to create objects with instances customized to a specific initial state. \n",
    "* Therefore a class may define a special method named `__init__()`.\n",
    "\n",
    "\n",
    "\n",
    "### Constructors in Python\n",
    "![light](https://user-images.githubusercontent.com/12748752/137111059-882c8ea6-bdbf-4966-89b9-7ef5a02ebc6e.png)\n",
    "* When a class defines an __init__() method, class instantiation automatically invokes __init__() for the newly-created class instance. \n",
    "* **Syntax of Constructor**\n",
    "\n",
    "```\n",
    "def __init__(self):\n",
    "    # body of the constructor\n",
    "```\n",
    "\n",
    "* **Types of Constructor**\n",
    "    * **Default constructor:** \n",
    "    * **Parameterized constructor:** \n",
    "         * The parameterized constructor takes its first argument as a reference to the instance being constructed known as _self_ and the rest of the arguments are provided by the programmer.\n",
    "    \n",
    "    \n",
    "\n",
    "#### Default constructor  \n",
    "![light](https://user-images.githubusercontent.com/12748752/137111059-882c8ea6-bdbf-4966-89b9-7ef5a02ebc6e.png)\n",
    "* The default constructor is a simple constructor which doesn’t accept any arguments.\n",
    "* Its definition has only one argument which is a reference to the instance being constructed (_**self**_)."
   ]
  },
  {
   "cell_type": "code",
   "execution_count": 92,
   "metadata": {},
   "outputs": [
    {
     "name": "stdout",
     "output_type": "stream",
     "text": [
      "My_Constructor1\n"
     ]
    },
    {
     "data": {
      "text/plain": [
       "'My_Constructor1'"
      ]
     },
     "execution_count": 92,
     "metadata": {},
     "output_type": "execute_result"
    }
   ],
   "source": [
    "class Class1:\n",
    " \n",
    "    # default constructor\n",
    "    def __init__(self):\n",
    "        self.cls = \"My_Constructor1\" #'cls' is jujst a variable instantiated with 'self'\n",
    " \n",
    "    # a method for printing data members\n",
    "    def print_cls(self):\n",
    "        print(self.cls)\n",
    " \n",
    " \n",
    "# creating object of the class\n",
    "obj = Class1()\n",
    " \n",
    "# calling the instance method using the object obj\n",
    "obj.print_cls()\n",
    "\n",
    "obj.cls"
   ]
  },
  {
   "cell_type": "code",
   "execution_count": 93,
   "metadata": {},
   "outputs": [
    {
     "name": "stdout",
     "output_type": "stream",
     "text": [
      "This is Constructor\n",
      "Worked fine\n"
     ]
    }
   ],
   "source": [
    "\n",
    "# Self is always required as the first argument\n",
    "class check:\n",
    "    def __init__(hi):\n",
    "        print(\"This is Constructor\")\n",
    " \n",
    "object = check()\n",
    "print(\"Worked fine\")"
   ]
  },
  {
   "cell_type": "markdown",
   "metadata": {},
   "source": [
    "#### Parameterized constructor\n",
    "![light](https://user-images.githubusercontent.com/12748752/137111059-882c8ea6-bdbf-4966-89b9-7ef5a02ebc6e.png)\n",
    "\n",
    "* The parameterized constructor takes its first argument as a reference to the instance being constructed known as self and the rest of the arguments are provided by the programmer."
   ]
  },
  {
   "cell_type": "code",
   "execution_count": 94,
   "metadata": {},
   "outputs": [
    {
     "name": "stdout",
     "output_type": "stream",
     "text": [
      "3.0 -4.5\n"
     ]
    }
   ],
   "source": [
    "class Complex:\n",
    "     def __init__(self, realpart, imagpart):\n",
    "        self.r = realpart\n",
    "        self.i = imagpart\n",
    "\n",
    "x = Complex(3.0, -4.5)\n",
    "print(x.r, x.i)"
   ]
  },
  {
   "cell_type": "code",
   "execution_count": 95,
   "metadata": {},
   "outputs": [
    {
     "name": "stdout",
     "output_type": "stream",
     "text": [
      "First number = 1000\n",
      "Second number = 2000\n",
      "Addition of two numbers = 3000\n"
     ]
    }
   ],
   "source": [
    "\n",
    "class Addition:\n",
    "#     first = 0\n",
    "#     second = 0\n",
    "#     answer = 0\n",
    "     \n",
    "    # parameterized constructor\n",
    "    def __init__(self, f, s):\n",
    "        self.first = f\n",
    "        self.second = s\n",
    "     \n",
    "    def display(self):\n",
    "        print(\"First number = \" + str(self.first))\n",
    "        print(\"Second number = \" + str(self.second))\n",
    "        print(\"Addition of two numbers = \" + str(self.answer))\n",
    " \n",
    "    def calculate(self):\n",
    "        self.answer = self.first + self.second\n",
    " \n",
    "# creating object of the class\n",
    "# this will invoke parameterized constructor\n",
    "obj = Addition(1000, 2000)\n",
    " \n",
    "# perform Addition\n",
    "obj.calculate()\n",
    " \n",
    "# display result\n",
    "obj.display()"
   ]
  },
  {
   "cell_type": "markdown",
   "metadata": {},
   "source": [
    "### 'self' in Python class\n",
    "![dark](https://user-images.githubusercontent.com/12748752/137111056-3a1e5ff9-56d1-4b02-a4b7-ada69dac75b3.png)\n",
    "* **Self is the first argument to be passed in Constructor and Instance Method.**\n",
    "* **Self is a convention and not a Python keyword**.\n",
    "* self represents the instance of the class.\n",
    "* By using the “self” keyword we can access the attributes and methods of the class in python. \n",
    "* It binds the attributes with the given arguments.\n",
    "* The reason you need to use self.\n",
    "* is because Python does not use the @ syntax to refer to instance attributes.\n",
    "* Python decided to do methods in a way that makes the instance to which the method belongs be passed automatically, but not received automatically: the first parameter of methods is the instance the method is called on."
   ]
  },
  {
   "cell_type": "code",
   "execution_count": 96,
   "metadata": {},
   "outputs": [
    {
     "name": "stdout",
     "output_type": "stream",
     "text": [
      "Address of self =  2231293012904\n",
      "Address of class object =  2231293012904\n"
     ]
    }
   ],
   "source": [
    "#it is clearly seen that self and obj is referring to the same object\n",
    " \n",
    "class Class2:\n",
    "    def __init__(self):\n",
    "        print(\"Address of self = \",id(self))\n",
    " \n",
    "obj = Class2()\n",
    "print(\"Address of class object = \",id(obj))\n",
    " \n"
   ]
  },
  {
   "cell_type": "code",
   "execution_count": 97,
   "metadata": {},
   "outputs": [
    {
     "name": "stdout",
     "output_type": "stream",
     "text": [
      "Model is audi a4\n",
      "color is blue\n",
      "Model is ferrari 488\n",
      "color is green\n"
     ]
    }
   ],
   "source": [
    "class car():\n",
    "     \n",
    "    # init method or constructor\n",
    "    def __init__(self, model, color):\n",
    "        self.model = model\n",
    "        self.color = color\n",
    "         \n",
    "    def show(self):\n",
    "        print(\"Model is\", self.model )\n",
    "        print(\"color is\", self.color )\n",
    "         \n",
    "# both objects have different self which\n",
    "# contain their attributes\n",
    "audi = car(\"audi a4\", \"blue\")\n",
    "ferrari = car(\"ferrari 488\", \"green\")\n",
    " \n",
    "audi.show()     # same output as car.show(audi)\n",
    "ferrari.show()  # same output as car.show(ferrari)\n",
    " \n",
    "# Behind the scene, in every instance method\n",
    "# call, python sends the instances also with\n",
    "# that method call like car.show(audi)"
   ]
  },
  {
   "cell_type": "markdown",
   "metadata": {},
   "source": [
    "* **Customizede 'self'**"
   ]
  },
  {
   "cell_type": "code",
   "execution_count": 98,
   "metadata": {},
   "outputs": [
    {
     "name": "stdout",
     "output_type": "stream",
     "text": [
      "Address of my_self ;) =  2231285965600\n",
      "Address of class object =  2231285965600\n"
     ]
    }
   ],
   "source": [
    "class Class2:\n",
    "    def __init__(arijit):\n",
    "        print(\"Address of my_self ;) = \",id(arijit))\n",
    " \n",
    "obj = Class2()\n",
    "print(\"Address of class object = \",id(obj))\n",
    " "
   ]
  },
  {
   "cell_type": "code",
   "execution_count": null,
   "metadata": {},
   "outputs": [],
   "source": []
  }
 ],
 "metadata": {
  "kernelspec": {
   "display_name": "Python 3",
   "language": "python",
   "name": "python3"
  },
  "language_info": {
   "codemirror_mode": {
    "name": "ipython",
    "version": 3
   },
   "file_extension": ".py",
   "mimetype": "text/x-python",
   "name": "python",
   "nbconvert_exporter": "python",
   "pygments_lexer": "ipython3",
   "version": "3.6.8"
  }
 },
 "nbformat": 4,
 "nbformat_minor": 4
}
